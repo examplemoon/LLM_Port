{
 "cells": [
  {
   "cell_type": "code",
   "execution_count": 3,
   "id": "db5f32b2",
   "metadata": {
    "scrolled": true
   },
   "outputs": [
    {
     "name": "stderr",
     "output_type": "stream",
     "text": [
      "Some weights of the model checkpoint at kb-albert-char-base-v2 were not used when initializing AlbertForSequenceClassification: ['predictions.LayerNorm.bias', 'predictions.decoder.bias', 'predictions.bias', 'predictions.dense.weight', 'sop_classifier.classifier.bias', 'predictions.dense.bias', 'predictions.LayerNorm.weight', 'predictions.decoder.weight', 'sop_classifier.classifier.weight']\n",
      "- This IS expected if you are initializing AlbertForSequenceClassification from the checkpoint of a model trained on another task or with another architecture (e.g. initializing a BertForSequenceClassification model from a BertForPreTraining model).\n",
      "- This IS NOT expected if you are initializing AlbertForSequenceClassification from the checkpoint of a model that you expect to be exactly identical (initializing a BertForSequenceClassification model from a BertForSequenceClassification model).\n",
      "Some weights of AlbertForSequenceClassification were not initialized from the model checkpoint at kb-albert-char-base-v2 and are newly initialized: ['classifier.bias', 'classifier.weight']\n",
      "You should probably TRAIN this model on a down-stream task to be able to use it for predictions and inference.\n"
     ]
    },
    {
     "name": "stdout",
     "output_type": "stream",
     "text": [
      "Saved DataFrame with Positive_Score to ./KB-ALbert.csv.\n",
      "  company     code        Date                               Title  \\\n",
      "0    삼성전자  '005930  2021-03-12  진짜 5 G 28 서비스 활성화 첫 발 과기부 TF 발족 회의   \n",
      "1    삼성전자  '005930  2021-03-05                아버님 댁 에어 프라이어 놓다 드리다   \n",
      "2    삼성전자  '005930  2021-05-14           ESG 경영 첫 단추 늘다 여성 관리자 키우다   \n",
      "\n",
      "   Positive_Score  \n",
      "0        0.551764  \n",
      "1        0.539966  \n",
      "2        0.541864  \n"
     ]
    }
   ],
   "source": [
    "from transformers import AutoTokenizer, AutoModelForSequenceClassification\n",
    "from torch.utils.data import DataLoader, SequentialSampler\n",
    "from torch.nn.functional import softmax\n",
    "import torch\n",
    "import pandas as pd\n",
    "\n",
    "# KR-FinBERT 모델과 토크나이저 초기화\n",
    "model_name = \"kb-albert-char-base-v2\"\n",
    "tokenizer = AutoTokenizer.from_pretrained(model_name)\n",
    "model = AutoModelForSequenceClassification.from_pretrained(model_name)\n",
    "\n",
    "def sentiment_analysis(text, model, tokenizer):\n",
    "    # Tokenize the input text\n",
    "    inputs = tokenizer(text, padding=True, truncation=True, max_length=512, return_tensors=\"pt\")\n",
    "\n",
    "    # Get the model's predictions\n",
    "    with torch.no_grad():\n",
    "        outputs = model(**inputs)\n",
    "        predictions = softmax(outputs.logits, dim=1)\n",
    "\n",
    "    # Return the predicted positive sentiment probability\n",
    "    return predictions[0][1].item()\n",
    "\n",
    "# prepro_company_data.csv 파일 읽기\n",
    "df = pd.read_csv(\"./prepro_company_data.csv\")\n",
    "\n",
    "if \"Title\" in df.columns:\n",
    "    df[\"Positive_Score\"] = 0\n",
    "    for i in range(len(df)):\n",
    "        positive_score = sentiment_analysis(df.loc[i, \"Title\"], model, tokenizer)\n",
    "        df.loc[i, \"Positive_Score\"] = positive_score\n",
    "    \n",
    "    # 파일 이름 변경하여 저장\n",
    "    new_file_path = \"./KB-ALbert.csv\"\n",
    "    df.to_csv(new_file_path, index=False, encoding='utf-8-sig')\n",
    "    print(f\"Saved DataFrame with Positive_Score to {new_file_path}.\")\n",
    "    print(df.head(3))\n",
    "else:\n",
    "    print(\"prepro_company_data.csv does not contain 'Title' column.\")"
   ]
  },
  {
   "cell_type": "code",
   "execution_count": null,
   "id": "90d33482",
   "metadata": {},
   "outputs": [],
   "source": []
  }
 ],
 "metadata": {
  "kernelspec": {
   "display_name": "Python 3 (ipykernel)",
   "language": "python",
   "name": "python3"
  },
  "language_info": {
   "codemirror_mode": {
    "name": "ipython",
    "version": 3
   },
   "file_extension": ".py",
   "mimetype": "text/x-python",
   "name": "python",
   "nbconvert_exporter": "python",
   "pygments_lexer": "ipython3",
   "version": "3.11.4"
  }
 },
 "nbformat": 4,
 "nbformat_minor": 5
}
